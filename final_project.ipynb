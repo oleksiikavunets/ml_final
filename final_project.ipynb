{
  "nbformat": 4,
  "nbformat_minor": 0,
  "metadata": {
    "colab": {
      "provenance": []
    },
    "kernelspec": {
      "name": "python3",
      "display_name": "Python 3"
    },
    "language_info": {
      "name": "python"
    }
  },
  "cells": [
    {
      "cell_type": "code",
      "execution_count": null,
      "metadata": {
        "colab": {
          "base_uri": "https://localhost:8080/"
        },
        "id": "TOth2v4MkoU3",
        "outputId": "c9bbe833-36a7-4c6a-a3c6-7338fc869728"
      },
      "outputs": [
        {
          "output_type": "stream",
          "name": "stdout",
          "text": [
            "Requirement already satisfied: xgboost in /usr/local/lib/python3.10/dist-packages (2.1.1)\n",
            "Requirement already satisfied: numpy in /usr/local/lib/python3.10/dist-packages (from xgboost) (1.26.4)\n",
            "Requirement already satisfied: nvidia-nccl-cu12 in /usr/local/lib/python3.10/dist-packages (from xgboost) (2.23.4)\n",
            "Requirement already satisfied: scipy in /usr/local/lib/python3.10/dist-packages (from xgboost) (1.13.1)\n"
          ]
        }
      ],
      "source": [
        "import warnings\n",
        "\n",
        "import numpy as np\n",
        "import pandas as pd\n",
        "from imblearn.over_sampling import SMOTE\n",
        "from imblearn.pipeline import make_pipeline\n",
        "from pandas.core.interchange.dataframe_protocol import DataFrame\n",
        "from sklearn.compose import make_column_transformer, make_column_selector\n",
        "from sklearn.ensemble import GradientBoostingClassifier\n",
        "from sklearn.feature_selection import SelectKBest\n",
        "from sklearn.impute import SimpleImputer\n",
        "from sklearn.model_selection import cross_val_score, GridSearchCV\n",
        "from sklearn.preprocessing import PowerTransformer, TargetEncoder, Normalizer"
      ]
    },
    {
      "cell_type": "code",
      "source": [
        "train: DataFrame = pd.read_csv('final_proj_data.csv')\n",
        "valid = pd.read_csv('final_proj_test.csv')\n",
        "\n",
        "valid: DataFrame = valid[valid.columns[valid.isna().mean().lt(0.35)]]\n",
        "train: DataFrame = train[train.columns[train.isna().mean().lt(0.35)]]\n",
        "train = train.dropna(thresh=train.shape[1]- (int(len(train.columns) * 0.65)), axis=0)\n",
        "\n",
        "target = train.pop('y')"
      ],
      "metadata": {
        "id": "wNM_DhPKkwt_"
      },
      "execution_count": null,
      "outputs": []
    },
    {
      "cell_type": "code",
      "source": [
        "model = make_pipeline(\n",
        "\n",
        "    # Заповнюємо відсутні категоріальні ознаки\n",
        "    make_column_transformer(\n",
        "        (\n",
        "            SimpleImputer(strategy='most_frequent').set_output(transform='pandas'),\n",
        "            make_column_selector(dtype_include=object)\n",
        "        ),\n",
        "        remainder='passthrough',\n",
        "        n_jobs=-1\n",
        "    ).set_output(transform='pandas'),\n",
        "\n",
        "    # Заповнюємо відсутні числові ознаки\n",
        "    make_column_transformer(\n",
        "        (\n",
        "            SimpleImputer().set_output(transform='pandas'),\n",
        "            make_column_selector(dtype_include=np.number)\n",
        "        ),\n",
        "        remainder='passthrough',\n",
        "        n_jobs=-1\n",
        "    ).set_output(transform='pandas'),\n",
        "\n",
        "    # Кодуємо категоріальні ознаки\n",
        "    make_column_transformer(\n",
        "        (\n",
        "            TargetEncoder(random_state=42, cv=10).set_output(transform='pandas'),\n",
        "            make_column_selector(dtype_include=object)\n",
        "        ),\n",
        "        remainder='passthrough',\n",
        "        n_jobs=-1\n",
        "    ).set_output(transform='pandas'),\n",
        "\n",
        "    # Кодуємо числові ознаки\n",
        "    make_column_transformer(\n",
        "        (\n",
        "            TargetEncoder(random_state=42, cv=10).set_output(transform='pandas'),\n",
        "            make_column_selector(dtype_include=np.number)\n",
        "        ),\n",
        "        remainder='passthrough',\n",
        "        n_jobs=-1\n",
        "    ).set_output(transform='pandas'),\n",
        "\n",
        "    # Відбираємо найбільш важливі ознаки\n",
        "    SelectKBest().set_output(transform='pandas'),\n",
        "\n",
        "    # Нормалізуємо розподілення даних\n",
        "    PowerTransformer().set_output(transform='pandas'),\n",
        "\n",
        "    # Балансуємо класи даних\n",
        "    SMOTE(random_state=42),\n",
        "\n",
        "    # Нормалізуємо дані\n",
        "    Normalizer(),\n",
        "\n",
        "    GradientBoostingClassifier(random_state=42),\n",
        ")\n"
      ],
      "metadata": {
        "id": "bfXksZ_ukxpI"
      },
      "execution_count": null,
      "outputs": []
    },
    {
      "cell_type": "code",
      "source": [
        "with warnings.catch_warnings():\n",
        "    warnings.simplefilter('ignore')\n",
        "\n",
        "    cv_results = cross_val_score(\n",
        "        estimator=model,\n",
        "        X=train,\n",
        "        y=target,\n",
        "        scoring='balanced_accuracy',\n",
        "        cv=10,\n",
        "        n_jobs=-1)\n"
      ],
      "metadata": {
        "id": "STiM9jtLk9fP"
      },
      "execution_count": null,
      "outputs": []
    },
    {
      "cell_type": "code",
      "source": [
        "print(cv_results.mean())"
      ],
      "metadata": {
        "colab": {
          "base_uri": "https://localhost:8080/"
        },
        "id": "g-mktFglk-YW",
        "outputId": "a30503f8-7f22-4b19-db10-68db3e787636"
      },
      "execution_count": null,
      "outputs": [
        {
          "output_type": "stream",
          "name": "stdout",
          "text": [
            "[0.86498674 0.83660477 0.8602122  0.82944297 0.84407604 0.83400241\n",
            " 0.81810276 0.83415613 0.84184682 0.85580952]\n",
            "0.8419240361321556\n"
          ]
        },
        {
          "output_type": "execute_result",
          "data": {
            "text/plain": [
              "0.8419240361321556"
            ]
          },
          "metadata": {},
          "execution_count": 34
        }
      ]
    },
    {
      "cell_type": "code",
      "source": [
        "model.fit(train, target)\n",
        "\n",
        "output = pd.DataFrame({'index': valid.index, 'y': model.predict(valid)})\n",
        "output.to_csv('submission.csv', index=False)"
      ],
      "metadata": {
        "id": "yFiN9QEDDysK"
      },
      "execution_count": null,
      "outputs": []
    }
  ]
}